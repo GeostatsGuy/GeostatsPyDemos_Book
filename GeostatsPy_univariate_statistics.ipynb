{
  "cells": [
    {
      "cell_type": "markdown",
      "metadata": {
        "collapsed": true,
        "jupyter": {
          "outputs_hidden": true
        }
      },
      "source": [
        "<figure style=\"text-align: center;\">\n",
        "  <img src=\"_static/intro/title_page.png\" style=\"display: block; margin: 0 auto; width: 100%;\">\n",
        "</figure>\n",
        "\n",
        "### Univariate Statistics\n",
        "\n",
        "Michael J. Pyrcz, Professor, The University of Texas at Austin \n",
        "\n",
        "[Twitter](https://twitter.com/geostatsguy) | [GitHub](https://github.com/GeostatsGuy) | [Website](http://michaelpyrcz.com) | [GoogleScholar](https://[Twitter](https://twitter.com/geostatsguy) | [GitHub](https://github.com/GeostatsGuy) | [Website](http://michaelpyrcz.com) | [GoogleScholar](https://scholar.google.com/citations?user=QVZ20eQAAAAJ&hl=en&oi=ao) | [Geostatistics Book](https://www.amazon.com/Geostatistical-Reservoir-Modeling-Michael-Pyrcz/dp/0199731446) | [YouTube](https://www.youtube.com/channel/UCLqEr-xV-ceHdXXXrTId5ig)  | [Applied Geostats in Python e-book](https://geostatsguy.github.io/GeostatsPyDemos_Book/intro.html) | [Applied Machine Learning in Python e-book](https://geostatsguy.github.io/MachineLearningDemos_Book/) | [LinkedIn](https://www.linkedin.com/in/michael-pyrcz-61a648a1)\n",
        "\n",
        "Chapter of e-book \"Applied Geostatistics in Python: a Hands-on Guide with GeostatsPy\". \n",
        "\n",
        "```{admonition} Cite this e-Book as:\n",
        ":class: remove-from-content-only\n",
        "\n",
        "Pyrcz, M.J., 2024, *Applied Geostatistics in Python: a Hands-on Guide with GeostatsPy* [e-book]. Zenodo. doi:10.5281/zenodo.15169133 [![DOI](https://zenodo.org/badge/838927017.svg)](https://doi.org/10.5281/zenodo.15169132)  \n",
        "```\n",
        "\n",
        "The workflows in this book and more are available here:\n",
        "\n",
        "```{admonition} Cite the GeostatsPyDemos GitHub Repository as:\n",
        ":class: remove-from-content-only\n",
        "\n",
        "Pyrcz, M.J., 2024, *GeostatsPyDemos: GeostatsPy Python Package for Spatial Data Analytics and Geostatistics Demonstration Workflows Repository* (0.0.1) [Software]. Zenodo. doi:10.5281/zenodo.12667036. GitHub Repository: https://github.com/GeostatsGuy/GeostatsPyDemos [![DOI](https://zenodo.org/badge/777871341.svg)](https://doi.org/10.5281/zenodo.12667035)\n",
        "\n",
        "\n",
        "\n",
        "```\n",
        "\n",
        "By Michael J. Pyrcz <br />\n",
        "&copy; Copyright 2024."
      ]
    },
    {
      "cell_type": "markdown",
      "metadata": {},
      "source": [
        "This chapter is a tutorial for / demonstration of **Univariate Statistics**. \n",
        "\n",
        "**YouTube Lecture**: check out my lecture on [Univariate Statistics](https://youtu.be/wAcbA2cIqec?si=4Pd5nqNbOUrBqIAO). For your convenience here's a summary of salient points.\n",
        "\n",
        "Here's a demonstration of calculation of univariate statistics in Python. This demonstration is part of the resources that I include for my courses in Spatial / Subsurface Data Analytics and Geostatistics at the Cockrell School of Engineering and Jackson School of Goesciences at the University of Texas at Austin.  \n",
        "\n",
        "We will cover the following statistics:\n",
        "\n",
        "#### Measures of Centrality\n",
        "* Arithmetic Average / Mean\n",
        "* Median\n",
        "* Mode (most frequent binned)\n",
        "* Geometric Mean\n",
        "* Harmonic Mean\n",
        "* Power Law Average\n",
        "\n",
        "#### Measures of Dispersion\n",
        "* Population Variance\n",
        "* Sample Variance\n",
        "* Population Standard Deviation\n",
        "* Sample Standard Deviation\n",
        "* Range\n",
        "* Percentile w. Tail Assumptions\n",
        "* Interquartile Range\n",
        "\n",
        "#### Tukey Outlier Test\n",
        "* Lower Quartile/P25\n",
        "* Upper Quartile/P75\n",
        "* Interquartile Range\n",
        "* Lower Fence\n",
        "* Upper Fence\n",
        "* Calculating Outliers\n",
        "\n",
        "#### Measures of Shape\n",
        "* Skew\n",
        "* Excess Kurtosis\n",
        "* Pearson' Mode Skewness\n",
        "* Quartile Skew Coefficient\n",
        "\n",
        "#### Nonparmetric Cumulative Distribution Functions (CDFs)\n",
        "* plotting a nonparametric CDF\n",
        "* fitting a parametric distribution and plotting\n",
        "\n",
        "#### Load the Required Libraries\n",
        "\n",
        "The following code loads the required libraries. These should have been installed with Anaconda 3."
      ]
    },
    {
      "cell_type": "code",
      "execution_count": 17,
      "metadata": {},
      "outputs": [],
      "source": [
        "import numpy as np                                            # ndarrys for gridded data\n",
        "import pandas as pd                                           # DataFrames for tabular data\n",
        "import os                                                     # set working directory, run executables\n",
        "import matplotlib.pyplot as plt                               # plotting\n",
        "import scipy                                                  # statistics\n",
        "import statistics as stats                                    # statistics like the mode\n",
        "from scipy.stats import norm                                  # fitting a Gaussian distribution"
      ]
    },
    {
      "cell_type": "markdown",
      "metadata": {},
      "source": [
        "#### Set the Working Directory\n",
        "\n",
        "I always like to do this so I don't lose files and to simplify subsequent read and writes (avoid including the full address each time). Set this to your working directory, with the above mentioned data file."
      ]
    },
    {
      "cell_type": "code",
      "execution_count": 20,
      "metadata": {},
      "outputs": [],
      "source": [
        "#os.chdir(\"c:/PGE383\")                                        # set the working directory"
      ]
    },
    {
      "cell_type": "markdown",
      "metadata": {},
      "source": [
        "#### Loading Tabular Data\n",
        "\n",
        "Let's load the provided multivariate, spatial dataset [2D_MV_200wells.csv](https://raw.githubusercontent.com/GeostatsGuy/GeoDataSets/master/2D_MV_200wells.csv) available in my GeoDataSet repo. It is a comma delimited file with: \n",
        "\n",
        "* X coordinate (m)\n",
        "* Y coordinate (m)\n",
        "* facies_threshold_0.3 facies (1 - shale, 2 - sand)\n",
        "* porosity (%)\n",
        "* permeability ($mD$)\n",
        "* acoustic impedance ($\\frac{kg}{m^3} \\cdot \\frac{m}{s} \\cdot 10^6$).\n",
        "\n",
        "We load it with the pandas 'read_csv' function into a data frame we called 'df' and then preview it to make sure it loaded correctly."
      ]
    },
    {
      "cell_type": "code",
      "execution_count": 23,
      "metadata": {},
      "outputs": [
        {
          "data": {
            "text/html": [
              "<div>\n",
              "<style scoped>\n",
              "    .dataframe tbody tr th:only-of-type {\n",
              "        vertical-align: middle;\n",
              "    }\n",
              "\n",
              "    .dataframe tbody tr th {\n",
              "        vertical-align: top;\n",
              "    }\n",
              "\n",
              "    .dataframe thead th {\n",
              "        text-align: right;\n",
              "    }\n",
              "</style>\n",
              "<table border=\"1\" class=\"dataframe\">\n",
              "  <thead>\n",
              "    <tr style=\"text-align: right;\">\n",
              "      <th></th>\n",
              "      <th>X</th>\n",
              "      <th>Y</th>\n",
              "      <th>facies_threshold_0.3</th>\n",
              "      <th>porosity</th>\n",
              "      <th>permeability</th>\n",
              "      <th>acoustic_impedance</th>\n",
              "    </tr>\n",
              "  </thead>\n",
              "  <tbody>\n",
              "    <tr>\n",
              "      <th>0</th>\n",
              "      <td>565</td>\n",
              "      <td>1485</td>\n",
              "      <td>1</td>\n",
              "      <td>0.1184</td>\n",
              "      <td>6.1700</td>\n",
              "      <td>2.009</td>\n",
              "    </tr>\n",
              "    <tr>\n",
              "      <th>1</th>\n",
              "      <td>2585</td>\n",
              "      <td>1185</td>\n",
              "      <td>1</td>\n",
              "      <td>0.1566</td>\n",
              "      <td>6.2750</td>\n",
              "      <td>2.864</td>\n",
              "    </tr>\n",
              "    <tr>\n",
              "      <th>2</th>\n",
              "      <td>2065</td>\n",
              "      <td>2865</td>\n",
              "      <td>2</td>\n",
              "      <td>0.1920</td>\n",
              "      <td>92.2970</td>\n",
              "      <td>3.524</td>\n",
              "    </tr>\n",
              "    <tr>\n",
              "      <th>3</th>\n",
              "      <td>3575</td>\n",
              "      <td>2655</td>\n",
              "      <td>1</td>\n",
              "      <td>0.1621</td>\n",
              "      <td>9.0480</td>\n",
              "      <td>2.157</td>\n",
              "    </tr>\n",
              "    <tr>\n",
              "      <th>4</th>\n",
              "      <td>1835</td>\n",
              "      <td>35</td>\n",
              "      <td>1</td>\n",
              "      <td>0.1766</td>\n",
              "      <td>7.1230</td>\n",
              "      <td>3.979</td>\n",
              "    </tr>\n",
              "    <tr>\n",
              "      <th>5</th>\n",
              "      <td>3375</td>\n",
              "      <td>2525</td>\n",
              "      <td>1</td>\n",
              "      <td>0.1239</td>\n",
              "      <td>1.4680</td>\n",
              "      <td>2.337</td>\n",
              "    </tr>\n",
              "    <tr>\n",
              "      <th>6</th>\n",
              "      <td>2295</td>\n",
              "      <td>1325</td>\n",
              "      <td>1</td>\n",
              "      <td>0.1790</td>\n",
              "      <td>31.9330</td>\n",
              "      <td>3.491</td>\n",
              "    </tr>\n",
              "    <tr>\n",
              "      <th>7</th>\n",
              "      <td>3715</td>\n",
              "      <td>3045</td>\n",
              "      <td>2</td>\n",
              "      <td>0.1914</td>\n",
              "      <td>116.7810</td>\n",
              "      <td>2.187</td>\n",
              "    </tr>\n",
              "    <tr>\n",
              "      <th>8</th>\n",
              "      <td>2865</td>\n",
              "      <td>2215</td>\n",
              "      <td>1</td>\n",
              "      <td>0.1763</td>\n",
              "      <td>3.0030</td>\n",
              "      <td>2.048</td>\n",
              "    </tr>\n",
              "    <tr>\n",
              "      <th>9</th>\n",
              "      <td>55</td>\n",
              "      <td>1545</td>\n",
              "      <td>1</td>\n",
              "      <td>0.1674</td>\n",
              "      <td>5.2130</td>\n",
              "      <td>2.251</td>\n",
              "    </tr>\n",
              "    <tr>\n",
              "      <th>10</th>\n",
              "      <td>2125</td>\n",
              "      <td>1105</td>\n",
              "      <td>1</td>\n",
              "      <td>0.1369</td>\n",
              "      <td>3.6930</td>\n",
              "      <td>3.627</td>\n",
              "    </tr>\n",
              "    <tr>\n",
              "      <th>11</th>\n",
              "      <td>565</td>\n",
              "      <td>195</td>\n",
              "      <td>1</td>\n",
              "      <td>0.1095</td>\n",
              "      <td>0.2627</td>\n",
              "      <td>2.860</td>\n",
              "    </tr>\n",
              "    <tr>\n",
              "      <th>12</th>\n",
              "      <td>3475</td>\n",
              "      <td>1035</td>\n",
              "      <td>1</td>\n",
              "      <td>0.1677</td>\n",
              "      <td>9.9140</td>\n",
              "      <td>2.742</td>\n",
              "    </tr>\n",
              "  </tbody>\n",
              "</table>\n",
              "</div>"
            ],
            "text/plain": [
              "       X     Y  facies_threshold_0.3  porosity  permeability  \\\n",
              "0    565  1485                     1    0.1184        6.1700   \n",
              "1   2585  1185                     1    0.1566        6.2750   \n",
              "2   2065  2865                     2    0.1920       92.2970   \n",
              "3   3575  2655                     1    0.1621        9.0480   \n",
              "4   1835    35                     1    0.1766        7.1230   \n",
              "5   3375  2525                     1    0.1239        1.4680   \n",
              "6   2295  1325                     1    0.1790       31.9330   \n",
              "7   3715  3045                     2    0.1914      116.7810   \n",
              "8   2865  2215                     1    0.1763        3.0030   \n",
              "9     55  1545                     1    0.1674        5.2130   \n",
              "10  2125  1105                     1    0.1369        3.6930   \n",
              "11   565   195                     1    0.1095        0.2627   \n",
              "12  3475  1035                     1    0.1677        9.9140   \n",
              "\n",
              "    acoustic_impedance  \n",
              "0                2.009  \n",
              "1                2.864  \n",
              "2                3.524  \n",
              "3                2.157  \n",
              "4                3.979  \n",
              "5                2.337  \n",
              "6                3.491  \n",
              "7                2.187  \n",
              "8                2.048  \n",
              "9                2.251  \n",
              "10               3.627  \n",
              "11               2.860  \n",
              "12               2.742  "
            ]
          },
          "execution_count": 23,
          "metadata": {},
          "output_type": "execute_result"
        }
      ],
      "source": [
        "df = pd.read_csv(\"https://raw.githubusercontent.com/GeostatsGuy/GeoDataSets/master/2D_MV_200wells.csv\") # read a .csv file in as a DataFrame\n",
        "#print(df.iloc[0:5,:])                                        # display first 4 samples in the table as a preview\n",
        "df.head(n=13)                                                 # we could also use this command for a table preview "
      ]
    },
    {
      "cell_type": "markdown",
      "metadata": {},
      "source": [
        "Let's extract one of the features, porosity, into a 1D ndarray and do our statistics on porosity.\n",
        "\n",
        "* then we can use NumPy's statistics methods"
      ]
    },
    {
      "cell_type": "code",
      "execution_count": 26,
      "metadata": {},
      "outputs": [],
      "source": [
        "por = df['porosity'].values                                   # extract porosity feature as a NumPy ndarray"
      ]
    },
    {
      "cell_type": "markdown",
      "metadata": {},
      "source": [
        "Check the output from the above."
      ]
    },
    {
      "cell_type": "code",
      "execution_count": 29,
      "metadata": {},
      "outputs": [
        {
          "name": "stdout",
          "output_type": "stream",
          "text": [
            "por is a <class 'numpy.ndarray'>, with shape of (200,)\n"
          ]
        }
      ],
      "source": [
        "print('por is a ' + str(type(por)) + ', with shape of ' + str(por.shape)) # check the type and size"
      ]
    },
    {
      "cell_type": "markdown",
      "metadata": {},
      "source": [
        "Now let's go through all the univariate statistics listed above one-by-one.\n",
        "\n",
        "#### Measures of Central Tendency\n",
        "\n",
        "Let's start with measures of central tendency.\n",
        "\n",
        "##### The Arithmetic Average / Mean\n",
        "\n",
        "\\begin{equation}\n",
        "\\overline{x} = \\frac{1}{n}\\sum^n_{i=1} x_i\n",
        "\\end{equation}"
      ]
    },
    {
      "cell_type": "code",
      "execution_count": 32,
      "metadata": {},
      "outputs": [
        {
          "name": "stdout",
          "output_type": "stream",
          "text": [
            "Porosity average is 0.15.\n"
          ]
        }
      ],
      "source": [
        "por_average = np.average(por)\n",
        "print('Porosity average is ' + str(round(por_average,2)) + '.')"
      ]
    },
    {
      "cell_type": "markdown",
      "metadata": {},
      "source": [
        "##### Median\n",
        "\n",
        "\\begin{equation}\n",
        "P50_x = F^{-1}_{x}(0.50)\n",
        "\\end{equation}"
      ]
    },
    {
      "cell_type": "code",
      "execution_count": 35,
      "metadata": {},
      "outputs": [
        {
          "name": "stdout",
          "output_type": "stream",
          "text": [
            "Porosity median is 0.15.\n"
          ]
        }
      ],
      "source": [
        "por_median = np.median(por)\n",
        "print('Porosity median is ' + str(round(por_median,2)) + '.')"
      ]
    },
    {
      "cell_type": "markdown",
      "metadata": {},
      "source": [
        "##### Mode\n",
        "\n",
        "The most common value. To do this we should bin the data, like into histogram bins/bars.  To do this we will round the data to the 2nd decimal place.  We are assume bin boundaries, $0.01, 0.02,\\ldots, 0.30$."
      ]
    },
    {
      "cell_type": "code",
      "execution_count": 38,
      "metadata": {},
      "outputs": [
        {
          "name": "stdout",
          "output_type": "stream",
          "text": [
            "Porosity mode is 0.14.\n"
          ]
        }
      ],
      "source": [
        "por_mode = stats.mode(np.round(por,2))\n",
        "print('Porosity mode is ' + str(round(por_mode,2)) + '.')"
      ]
    },
    {
      "cell_type": "markdown",
      "metadata": {},
      "source": [
        "##### Geometric Mean\n",
        "\n",
        "\\begin{equation}\n",
        "\\overline{x}_G = ( \\prod^n_{i=1} x_i )^{\\frac{1}{n}}\n",
        "\\end{equation}"
      ]
    },
    {
      "cell_type": "code",
      "execution_count": 41,
      "metadata": {},
      "outputs": [
        {
          "name": "stdout",
          "output_type": "stream",
          "text": [
            "Porosity geometric mean is 0.15.\n"
          ]
        }
      ],
      "source": [
        "por_geometric = scipy.stats.mstats.gmean(por)\n",
        "print('Porosity geometric mean is ' + str(round(por_geometric,2)) + '.')"
      ]
    },
    {
      "cell_type": "markdown",
      "metadata": {},
      "source": [
        "##### Harmonic Mean\n",
        "\n",
        "\\begin{equation}\n",
        "\\overline{x}_H = \\frac{n}{\\sum^n_{i=1} \\frac{1}{x_i}}\n",
        "\\end{equation}"
      ]
    },
    {
      "cell_type": "code",
      "execution_count": 44,
      "metadata": {},
      "outputs": [
        {
          "name": "stdout",
          "output_type": "stream",
          "text": [
            "Porosity harmonic mean is 0.14.\n"
          ]
        }
      ],
      "source": [
        "por_hmean = scipy.stats.mstats.hmean(por)\n",
        "print('Porosity harmonic mean is ' + str(round(por_hmean,2)) + '.')"
      ]
    },
    {
      "cell_type": "markdown",
      "metadata": {},
      "source": [
        "##### Power Law Average\n",
        "\n",
        "\\begin{equation}\n",
        "\\overline{x}_p = (\\frac{1}{n}\\sum^n_{i=1}{x_i^{p}})^\\frac{1}{p}\n",
        "\\end{equation}\n"
      ]
    },
    {
      "cell_type": "code",
      "execution_count": 47,
      "metadata": {},
      "outputs": [
        {
          "name": "stdout",
          "output_type": "stream",
          "text": [
            "Porosity law mean for p = 1.0 is 0.15.\n"
          ]
        }
      ],
      "source": [
        "p = 1.0\n",
        "por_power = np.average(np.power(por,p))**(1/p)\n",
        "print('Porosity law mean for p = ' + str(p) + ' is ' + str(round(por_power,2)) + '.')"
      ]
    },
    {
      "cell_type": "code",
      "execution_count": 49,
      "metadata": {},
      "outputs": [
        {
          "data": {
            "text/plain": [
              "(200,)"
            ]
          },
          "execution_count": 49,
          "metadata": {},
          "output_type": "execute_result"
        }
      ],
      "source": [
        "p = 1.0\n",
        "np.power(por,p).shape"
      ]
    },
    {
      "cell_type": "markdown",
      "metadata": {},
      "source": [
        "#### Measures of Dispersion\n",
        "\n",
        "##### Population Variance\n",
        "\n",
        "\\begin{equation}\n",
        "\\sigma^2_{x} = \\frac{1}{n}\\sum^n_{i=1}(x_i - \\mu)\n",
        "\\end{equation}"
      ]
    },
    {
      "cell_type": "code",
      "execution_count": 52,
      "metadata": {},
      "outputs": [
        {
          "name": "stdout",
          "output_type": "stream",
          "text": [
            "Porosity population variance is 0.0011.\n"
          ]
        }
      ],
      "source": [
        "por_varp = stats.pvariance(por)\n",
        "print('Porosity population variance is ' + str(round(por_varp,4)) + '.')"
      ]
    },
    {
      "cell_type": "markdown",
      "metadata": {},
      "source": [
        "##### Sample Variance\n",
        "\n",
        "\\begin{equation}\n",
        "\\sigma^2_{x} = \\frac{1}{n-1}\\sum^n_{i=1}(x_i - \\overline{x})^2\n",
        "\\end{equation}"
      ]
    },
    {
      "cell_type": "code",
      "execution_count": 55,
      "metadata": {},
      "outputs": [
        {
          "name": "stdout",
          "output_type": "stream",
          "text": [
            "Porosity sample variance is 0.0011.\n"
          ]
        }
      ],
      "source": [
        "por_var = stats.variance(por)\n",
        "print('Porosity sample variance is ' + str(round(por_var,4)) + '.')"
      ]
    },
    {
      "cell_type": "markdown",
      "metadata": {},
      "source": [
        "##### Population Standard Deviation\n",
        "\n",
        "\\begin{equation}\n",
        "\\sigma_{x} = \\sqrt{ \\frac{1}{n}\\sum^n_{i=1}(x_i - \\mu)^2 }\n",
        "\\end{equation}"
      ]
    },
    {
      "cell_type": "code",
      "execution_count": 58,
      "metadata": {},
      "outputs": [
        {
          "name": "stdout",
          "output_type": "stream",
          "text": [
            "Porosity sample standard deviation is 0.0329.\n"
          ]
        }
      ],
      "source": [
        "por_stdp = stats.pstdev(por)\n",
        "print('Porosity sample standard deviation is ' + str(round(por_stdp,4)) + '.')"
      ]
    },
    {
      "cell_type": "markdown",
      "metadata": {},
      "source": [
        "##### Sample Standard Deviation\n",
        "\n",
        "\\begin{equation}\n",
        "\\sigma_{x} = \\sqrt{ \\frac{1}{n-1}\\sum^n_{i=1}(x_i - \\mu)^2 }\n",
        "\\end{equation}"
      ]
    },
    {
      "cell_type": "code",
      "execution_count": 61,
      "metadata": {},
      "outputs": [
        {
          "name": "stdout",
          "output_type": "stream",
          "text": [
            "Porosity sample variance is 0.0329.\n"
          ]
        }
      ],
      "source": [
        "por_std = stats.stdev(por)\n",
        "print('Porosity sample variance is ' + str(round(por_std,4)) + '.')"
      ]
    },
    {
      "cell_type": "markdown",
      "metadata": {},
      "source": [
        "##### Range\n",
        "\n",
        "\\begin{equation}\n",
        "range_x = P100_x - P00_x\n",
        "\\end{equation}"
      ]
    },
    {
      "cell_type": "code",
      "execution_count": 64,
      "metadata": {},
      "outputs": [
        {
          "name": "stdout",
          "output_type": "stream",
          "text": [
            "Porosity range is 0.17.\n"
          ]
        }
      ],
      "source": [
        "por_range = np.max(por) - np.min(por)\n",
        "print('Porosity range is ' + str(round(por_range,2)) + '.')"
      ]
    },
    {
      "cell_type": "markdown",
      "metadata": {},
      "source": [
        "##### Percentile\n",
        "\n",
        "\\begin{equation}\n",
        "P(p)_x = F^{-1}_{x}(p)\n",
        "\\end{equation}"
      ]
    },
    {
      "cell_type": "code",
      "execution_count": 67,
      "metadata": {},
      "outputs": [
        {
          "name": "stdout",
          "output_type": "stream",
          "text": [
            "Porosity 13th percentile is 0.11.\n"
          ]
        }
      ],
      "source": [
        "p_value = 13\n",
        "por_percentile = np.percentile(por,p_value)\n",
        "print('Porosity ' + str(int(p_value)) + 'th percentile is ' + str(round(por_percentile,2)) + '.')"
      ]
    },
    {
      "cell_type": "markdown",
      "metadata": {},
      "source": [
        "##### Inter Quartile Range\n",
        "\n",
        "\\begin{equation}\n",
        "IQR = P(0.75)_x - P(0.25)_x\n",
        "\\end{equation}"
      ]
    },
    {
      "cell_type": "code",
      "execution_count": 25,
      "metadata": {},
      "outputs": [
        {
          "name": "stdout",
          "output_type": "stream",
          "text": [
            "Porosity interquartile range is 0.04.\n"
          ]
        }
      ],
      "source": [
        "por_iqr = scipy.stats.iqr(por)\n",
        "print('Porosity interquartile range is ' + str(round(por_iqr,2)) + '.')"
      ]
    },
    {
      "cell_type": "markdown",
      "metadata": {},
      "source": [
        "#### Cumulative Probability\n",
        "\n",
        "Given a value, calculate the forward of the CDF,\n",
        "\n",
        "$$\n",
        "p = F_x(x)\n",
        "$$\n",
        "\n",
        "In the case of nonparametric distribution, this may be approximated by sorting a list and finding the number of values less than the value.\n",
        "\n",
        "* a more robust method is to fit the CDF and use the parametric CDF expression of nonparametric CDF with interpolation"
      ]
    },
    {
      "cell_type": "code",
      "execution_count": null,
      "metadata": {},
      "outputs": [],
      "source": [
        "value = 0.13                                                  # select a value to calculate the cumulative probability\n",
        "np.sort(por)\n",
        "rank = np.sum(por <= value)\n",
        "cumulative_prob = rank / len(por)\n",
        "print('Cumulative probability of porosity = ' + str(value) + ' is ' + str(round(cumulative_prob,2)) + '.')"
      ]
    },
    {
      "cell_type": "markdown",
      "metadata": {},
      "source": [
        "#### Tukey Test for Outliers\n",
        "\n",
        "Let's demonstrate the Tukey test for outliers based on the lower and upper fences.\n",
        "\n",
        "\\begin{equation}\n",
        "fence_{lower} = P_x(0.25) - 1.5 \\times [P_x(0.75) - P_x(0.25)]\n",
        "\\end{equation}\n",
        "\n",
        "\\begin{equation}\n",
        "fence_{upper} = P_x(0.75) + 1.5 \\times [P_x(0.75) - P_x(0.25)]\n",
        "\\end{equation}\n",
        "\n",
        "Then we declare samples values above the upper fence or below the lower fence as outliers."
      ]
    },
    {
      "cell_type": "code",
      "execution_count": 26,
      "metadata": {},
      "outputs": [
        {
          "name": "stdout",
          "output_type": "stream",
          "text": [
            "Porosity outliers by Tukey test include [0.06726 0.05    0.06092].\n",
            "Porosity outlier indices by Tukey test are [110 152 198].\n"
          ]
        }
      ],
      "source": [
        "p25, p75 = np.percentile(por, [25, 75])\n",
        "lower_fence = p25 - por_iqr * 1.5\n",
        "upper_fence = p75 + por_iqr * 1.5\n",
        "por_outliers = por[np.where((por > upper_fence) | (por < lower_fence))[0]]\n",
        "print('Porosity outliers by Tukey test include ' + str(por_outliers) + '.')\n",
        "por_outliers_indices = np.where((por > upper_fence) | (por < lower_fence))[0]\n",
        "print('Porosity outlier indices by Tukey test are ' + str(por_outliers_indices) + '.')"
      ]
    },
    {
      "cell_type": "markdown",
      "metadata": {},
      "source": [
        "#### Measures of Shape\n",
        "\n",
        "##### Pearson's Mode Skewness\n",
        "\n",
        "\\begin{equation}\n",
        "skew = \\frac{3 (\\overline{x} - mode_x)}{\\sigma_x}\n",
        "\\end{equation}"
      ]
    },
    {
      "cell_type": "code",
      "execution_count": 29,
      "metadata": {},
      "outputs": [
        {
          "name": "stdout",
          "output_type": "stream",
          "text": [
            "Porosity skew is 0.28.\n"
          ]
        }
      ],
      "source": [
        "por_skew = (por_average - por_mode)/por_std\n",
        "print('Porosity skew is ' + str(round(por_skew,2)) + '.')"
      ]
    },
    {
      "cell_type": "markdown",
      "metadata": {},
      "source": [
        "##### Population Skew, 3rd Central Moment\n",
        "\n",
        "\\begin{equation}\n",
        "\\gamma_{x} = \\frac{1}{n}\\sum^n_{i=1}(x_i - \\mu)^3\n",
        "\\end{equation}"
      ]
    },
    {
      "cell_type": "code",
      "execution_count": 30,
      "metadata": {},
      "outputs": [
        {
          "name": "stdout",
          "output_type": "stream",
          "text": [
            "Porosity 3rd central moment is -1.22e-05.\n"
          ]
        }
      ],
      "source": [
        "por_cm = scipy.stats.moment(por,moment=3)\n",
        "print('Porosity 3rd central moment is ' + str(round(por_cm,7)) + '.')"
      ]
    },
    {
      "cell_type": "markdown",
      "metadata": {},
      "source": [
        "##### Quartile Skew Coefficient\n",
        "\n",
        "\\begin{equation}\n",
        "QS = \\frac{(P75_x - P50_x) - (P50_x - P25_x)}{(P75_x - P25_x)}\n",
        "\\end{equation}"
      ]
    },
    {
      "cell_type": "code",
      "execution_count": 31,
      "metadata": {},
      "outputs": [
        {
          "name": "stdout",
          "output_type": "stream",
          "text": [
            "Porosity quartile skew coefficient is 0.14.\n"
          ]
        }
      ],
      "source": [
        "por_qs = ((np.percentile(por,75)-np.percentile(por,50))\n",
        "          -(np.percentile(por,50)-np.percentile(por,25))) /((np.percentile(por,75))-np.percentile(por,25))\n",
        "print('Porosity quartile skew coefficient is ' + str(round(por_qs,2)) + '.')"
      ]
    },
    {
      "cell_type": "markdown",
      "metadata": {},
      "source": [
        "#### Plot the Nonparametric CDF\n",
        "\n",
        "Let's demonstrate plotting a nonparametric cumulative distribution function (CDF) in Python"
      ]
    },
    {
      "cell_type": "code",
      "execution_count": 32,
      "metadata": {},
      "outputs": [
        {
          "data": {
            "image/png": "[encoded data removed]",
            "text/plain": [
              "<Figure size 432x288 with 1 Axes>"
            ]
          },
          "metadata": {
            "needs_background": "light"
          },
          "output_type": "display_data"
        }
      ],
      "source": [
        "# sort the data:\n",
        "por_sort = np.sort(por)\n",
        "\n",
        "# calculate the cumulative probabilities assuming known tails\n",
        "p = np.arange(len(por)) / (len(por) - 1)\n",
        "\n",
        "# plot the cumulative probabilities vs. the sorted porosity values\n",
        "plt.subplot(122)\n",
        "plt.scatter(por_sort, p, c = 'red', edgecolors = 'black', s = 10, alpha = 0.7)\n",
        "plt.xlabel('Porosity (fraction)'); plt.ylabel('Cumulative Probability'); plt.grid(); \n",
        "plt.title('Nonparametric Porosity CDF')\n",
        "plt.ylim([0,1]); plt.xlim([0,0.25])\n",
        "plt.subplots_adjust(left=0.0, bottom=0.0, right=2.0, top=1.2, wspace=0.2, hspace=0.3)"
      ]
    },
    {
      "cell_type": "markdown",
      "metadata": {},
      "source": [
        "#### Fit a Gaussian Distribution\n",
        "\n",
        "Let's fit a Gaussian distribution\n",
        "\n",
        "* we get fancy with Maximuum Likelihood Estimation (MLE) for the Gaussian parametric distribution fit mean and standard deviation"
      ]
    },
    {
      "cell_type": "code",
      "execution_count": 33,
      "metadata": {},
      "outputs": [
        {
          "data": {
            "image/png": "[encoded data removed]",
            "text/plain": [
              "<Figure size 432x288 with 1 Axes>"
            ]
          },
          "metadata": {
            "needs_background": "light"
          },
          "output_type": "display_data"
        }
      ],
      "source": [
        "por_values = np.linspace(0.0,0.25,100) \n",
        "fit_mean, fit_stdev = norm.fit(por,loc = por_average, scale = por_std) # fit MLE of the distribution \n",
        "cumul_p = norm.cdf(por_values, loc = fit_mean, scale = fit_stdev)\n",
        "\n",
        "# plot the cumulative probabilities vs. the sorted porosity values\n",
        "plt.subplot(122)\n",
        "plt.scatter(por_sort, p, c = 'red', edgecolors = 'black', s = 10, alpha = 0.7)\n",
        "plt.plot(por_values,cumul_p, c = 'black')\n",
        "plt.xlabel('Porosity (fraction)'); plt.ylabel('Cumulative Probability'); plt.grid(); \n",
        "plt.title('Nonparametric Porosity CDF')\n",
        "plt.ylim([0,1]); plt.xlim([0,0.25])\n",
        "plt.subplots_adjust(left=0.0, bottom=0.0, right=2.0, top=1.2, wspace=0.2, hspace=0.3)"
      ]
    },
    {
      "cell_type": "markdown",
      "metadata": {},
      "source": [
        "#### Comments\n",
        "\n",
        "This was a basic demonstration of univariate statistics in Python. Much more can be done, I have other demonstrations for modeling workflows with GeostatsPy in the GitHub repository [GeostatsPy_Demos](https://github.com/GeostatsGuy/GeostatsPy_Demos/tree/main).\n",
        "\n",
        "I hope this is helpful,\n",
        "\n",
        "*Michael*\n",
        "  \n",
        "I hope this was helpful,\n",
        "\n",
        "*Michael*\n",
        "\n",
        "#### About the Author\n",
        "\n",
        "<figure style=\"text-align: center;\">\n",
        "  <img src=\"_static/intro/michael_pyrcz_officeshot_jacket.jpg\" style=\"display: block; margin: 0 auto; width: 70%;\">\n",
        "  <figcaption style=\"text-align: center;\"> Professor Michael Pyrcz in his office on the 40 acres, campus of The University of Texas at Austin.\n",
        "</figcaption>\n",
        "</figure>\n",
        "\n",
        "Michael Pyrcz is a professor in the [Cockrell School of Engineering](https://cockrell.utexas.edu/faculty-directory/alphabetical/p), and the [Jackson School of Geosciences](https://www.jsg.utexas.edu/researcher/michael_pyrcz/), at [The University of Texas at Austin](https://www.utexas.edu/), where he researches and teaches subsurface, spatial data analytics, geostatistics, and machine learning. Michael is also,\n",
        "\n",
        "* the principal investigator of the [Energy Analytics](https://fri.cns.utexas.edu/energy-analytics) freshmen research initiative and a core faculty in the Machine Learn Laboratory in the College of Natural Sciences, The University of Texas at Austin\n",
        "\n",
        "* an associate editor for [Computers and Geosciences](https://www.sciencedirect.com/journal/computers-and-geosciences/about/editorial-board), and a board member for [Mathematical Geosciences](https://link.springer.com/journal/11004/editorial-board), the International Association for Mathematical Geosciences. \n",
        "\n",
        "Michael has written over 70 [peer-reviewed publications](https://scholar.google.com/citations?user=QVZ20eQAAAAJ&hl=en), a [Python package](https://pypi.org/project/geostatspy/) for spatial data analytics, co-authored a textbook on spatial data analytics, [Geostatistical Reservoir Modeling](https://www.amazon.com/Geostatistical-Reservoir-Modeling-Michael-Pyrcz/dp/0199731446) and author of two recently released e-books, [Applied Geostatistics in Python: a Hands-on Guide with GeostatsPy](https://geostatsguy.github.io/GeostatsPyDemos_Book/intro.html) and [Applied Machine Learning in Python: a Hands-on Guide with Code](https://geostatsguy.github.io/MachineLearningDemos_Book/intro.html).\n",
        "\n",
        "All of Michael\u2019s university lectures are available on his [YouTube Channel](https://www.youtube.com/@GeostatsGuyLectures) with links to 100s of Python interactive dashboards and well-documented workflows in over 40 repositories on his [GitHub account](https://github.com/GeostatsGuy), to support any interested students and working professionals with evergreen content. To find out more about Michael\u2019s work and shared educational resources visit his [Website](www.michaelpyrcz.com).\n",
        "\n",
        "#### Want to Work Together?\n",
        "\n",
        "I hope this content is helpful to those that want to learn more about subsurface modeling, data analytics and machine learning. Students and working professionals are welcome to participate.\n",
        "\n",
        "* Want to invite me to visit your company for training, mentoring, project review, workflow design and / or consulting? I'd be happy to drop by and work with you! \n",
        "\n",
        "* Interested in partnering, supporting my graduate student research or my Subsurface Data Analytics and Machine Learning consortium (co-PI is Professor John Foster)? My research combines data analytics, stochastic modeling and machine learning theory with practice to develop novel methods and workflows to add value. We are solving challenging subsurface problems!\n",
        "\n",
        "* I can be reached at mpyrcz@austin.utexas.edu.\n",
        "\n",
        "I'm always happy to discuss,\n",
        "\n",
        "*Michael*\n",
        "\n",
        "Michael Pyrcz, Ph.D., P.Eng. Professor, Cockrell School of Engineering and The Jackson School of Geosciences, The University of Texas at Austin\n",
        "\n",
        "More Resources Available at: [Twitter](https://twitter.com/geostatsguy) | [GitHub](https://github.com/GeostatsGuy) | [Website](http://michaelpyrcz.com) | [GoogleScholar](https://scholar.google.com/citations?user=QVZ20eQAAAAJ&hl=en&oi=ao) | [Geostatistics Book](https://www.amazon.com/Geostatistical-Reservoir-Modeling-Michael-Pyrcz/dp/0199731446) | [YouTube](https://www.youtube.com/channel/UCLqEr-xV-ceHdXXXrTId5ig)  | [Applied Geostats in Python e-book](https://geostatsguy.github.io/GeostatsPyDemos_Book/intro.html) | [Applied Machine Learning in Python e-book](https://geostatsguy.github.io/MachineLearningDemos_Book/) | [LinkedIn](https://www.linkedin.com/in/michael-pyrcz-61a648a1)"
      ]
    }
  ],
  "metadata": {
    "kernelspec": {
      "display_name": "Python 3 (ipykernel)",
      "language": "python",
      "name": "python3"
    },
    "language_info": {
      "codemirror_mode": {
        "name": "ipython",
        "version": 3
      },
      "file_extension": ".py",
      "mimetype": "text/x-python",
      "name": "python",
      "nbconvert_exporter": "python",
      "pygments_lexer": "ipython3",
      "version": "3.12.4"
    }
  },
  "nbformat": 4,
  "nbformat_minor": 4
}