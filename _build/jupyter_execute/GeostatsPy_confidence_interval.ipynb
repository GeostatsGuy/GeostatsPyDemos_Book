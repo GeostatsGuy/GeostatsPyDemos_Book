{
 "cells": [
  {
   "cell_type": "markdown",
   "metadata": {},
   "source": [
    "<figure style=\"text-align: center;\">\n",
    "  <img src=\"_static/intro/title_page.png\" style=\"display: block; margin: 0 auto; width: 100%;\">\n",
    "</figure>\n",
    "\n",
    "### Confidence Intervals\n",
    "\n",
    "Michael J. Pyrcz, Professor, The University of Texas at Austin \n",
    "\n",
    "[Twitter](https://twitter.com/geostatsguy) | [GitHub](https://github.com/GeostatsGuy) | [Website](http://michaelpyrcz.com) | [GoogleScholar](https://scholar.google.com/citations?user=QVZ20eQAAAAJ&hl=en&oi=ao) | [Geostatistics Book](https://www.amazon.com/Geostatistical-Reservoir-Modeling-Michael-Pyrcz/dp/0199731446) | [YouTube](https://www.youtube.com/channel/UCLqEr-xV-ceHdXXXrTId5ig)  | [Applied Geostats in Python e-book](https://geostatsguy.github.io/GeostatsPyDemos_Book/intro.html) | [Applied Machine Learning in Python e-book](https://geostatsguy.github.io/MachineLearningDemos_Book/) | [LinkedIn](https://www.linkedin.com/in/michael-pyrcz-61a648a1)\n",
    "\n",
    "Chapter of e-book \"Applied Geostatistics in Python: a Hands-on Guide with GeostatsPy\". \n",
    "\n",
    "```{admonition} Cite this e-Book as:\n",
    ":class: remove-from-content-only\n",
    "\n",
    "Pyrcz, M.J., 2024, Applied Geostatistics in Python: a Hands-on Guide with GeostatsPy, https://geostatsguy.github.io/GeostatsPyDemos_Book.  \n",
    "```\n",
    "\n",
    "The workflows in this book and more are available here:\n",
    "\n",
    "```{admonition} Cite the GeostatsPyDemos GitHub Repository as:\n",
    ":class: remove-from-content-only\n",
    "\n",
    "Pyrcz, M.J., 2024, GeostatsPyDemos: GeostatsPy Python Package for Spatial Data Analytics and Geostatistics Demonstration Workflows Repository (0.0.1). Zenodo. https://zenodo.org/doi/10.5281/zenodo.12667035\n",
    "\n",
    "[![DOI](https://zenodo.org/badge/777871341.svg)](https://zenodo.org/doi/10.5281/zenodo.12667035)\n",
    "\n",
    "```\n",
    "\n",
    "By Michael J. Pyrcz <br />\n",
    "&copy; Copyright 2024."
   ]
  },
  {
   "attachments": {},
   "cell_type": "markdown",
   "metadata": {},
   "source": [
    "This chapter is a tutorial for / demonstration of **Confidence Intervals**. \n",
    "\n",
    "**YouTube Lecture**: check out my lectures on:\n",
    "\n",
    "* [Confidence Intervals](https://youtu.be/oaXCcTWcU04?si=MSxr1PtYO7ZDfmH2)\n",
    "* [Bootstrap](https://youtu.be/wCgdoImlLY0?si=n0hHzQWAS4R1IpGg)\n",
    "\n",
    "#### Motivation for Confidence Intervals\n",
    "\n",
    "The uncertainty in an estimated population parameter from a sample, represented as a range, lower and upper bound, based on a specified probability interval known as the confidence level.\n",
    "\n",
    "We communicate confidence intervals like this,\n",
    "\n",
    "* there is a 95% probability (or 19 times out of 20) that the true reservoir (population parameter), proportion of sand, is between 26% and 36%  \n",
    "\n",
    "Here we cover analytical methods for population mean and proportion,\n",
    "\n",
    "* for general bootstrap uncertainty models go to the [Bootstrap Uncertainty](GeostatsPy_GeostatsPy_bootstrap)\n",
    "\n",
    "#### Confidence Level vs. Alpha Level\n",
    "\n",
    "To communicate confidence intervals we need to know the follow terms,\n",
    "\n",
    "* **Confidence Level**, the probability of the population parameter being between the assessed lower and upper confidence bounds.\n",
    "\n",
    "* **Alpha level ($\\alpha$)**, $1.0 – Confidence Level$, the probability the population parameter is outside the confidence interval. Alpha level is also known as significance level.\n",
    "\n",
    "<figure style=\"text-align: center;\">\n",
    "  <img src=\"_static/confidence/interval.png\" style=\"display: block; margin: 0 auto; width: 80%;\">\n",
    "  <figcaption style=\"text-align: center;\">Illustration of confidence level and alpha level for a confidence interval in the proportion of sand.</figcaption>\n",
    "</figure>\n",
    "\n",
    "What Alpha Level ($\\alpha$) should you use?\n",
    "\n",
    "* too wide, almost all outcomes are in the interval - not useful!\n",
    "\n",
    "* too narrow, many outcomes are outside the interval - not useful!\n",
    "\n",
    "To determine the appropriate alpha level answer this question,\n",
    "\n",
    "* how often should a rare event occur?\n",
    "\n",
    "#### The Essense of Confidence Intervals\n",
    "\n",
    "While our confidence interval above is communicated as,\n",
    "\n",
    "* 95% probability of true reservoir proportion of sand is between 26% and 36%\n",
    "\n",
    "We have actually calculated,\n",
    "\n",
    "* 95% of sample sets with the associated confidence intervals include the true population proportion\n",
    "\n",
    "Why is this? The confidence level refers to a long-run proportion of confidence intervals, i.e., over many samples of the confidence interval and not a specific confidence interval.\n",
    "\n",
    "* while this is not the same thing, we assume it is and move on, this is the common frequentist approach\n",
    "\n",
    "<figure style=\"text-align: center;\">\n",
    "  <img src=\"_static/confidence/actual_interval.png\" style=\"display: block; margin: 0 auto; width: 60%;\">\n",
    "  <figcaption style=\"text-align: center;\">Illustration of the actual product of confidence intervals.</figcaption>\n",
    "</figure>\n",
    "\n",
    "Note, Bayesian credibility intervals actually represent the probablity of including the true population parameter directly in a single confidence interval.\n",
    "\n",
    "#### Standard Error\n",
    "\n",
    "A bit of a tricky definition. Let's start with the dictionary,\n",
    "\n",
    "* ‘a measure of the statistical accuracy of an estimate, equal to the standard deviation of the theoretical distribution of a large population of such estimates’.  - Oxford Dictionary \n",
    "\n",
    "Let's summarize,\n",
    "\n",
    "* standard error is in standard deviation, a measure of dispersion, i.e., the square root of variance\n",
    "\n",
    "* provides the uncertainty in a statistic as an estimate of the true population parameter\n",
    "\n",
    "Now let's show the equations for standard error, standard error in a mean:\n",
    "\n",
    "$$\n",
    "\\frac{s}{\\sqrt{n}} \\quad \\text{or} \\quad \\frac{s^2}{n}\n",
    "$$\n",
    "\n",
    "where $s$ is the sample standard deviation, $s^2$ is the sample variance, and $n$ is the number of samples. Now, the standard error in a proportion,\n",
    "\n",
    "$$\n",
    "\\sqrt{\\frac{\\hat{p}(1-\\hat{p})}{n}}\n",
    "$$\n",
    "\n",
    "where $\\hat{p}$ is the sample proportion.\n",
    "\n",
    "* while we have these analytical forms, recall that we could bootstrap to solve empirically for accuracy for any statistic! \n",
    "\n",
    "* note that increasing sample variance or standard deviation increases the standard error and increasing the number of data \n",
    "\n",
    "#### Scores\n",
    "\n",
    "Given the standard error, in standard deviation, we need to know how many standard deviations we need to include for our confidence interval to include a specific confidence level, once again we are assuming as the probability for the truth parameter to be within the interval.\n",
    "\n",
    "* the score will depend on the type of parameteric distribution, it is literally the lower and upper percentile values from the distribution\n",
    "\n",
    "* for a Gaussian distribution, we call this a z-score\n",
    "\n",
    "* for a Student's t distribution, we call this a t-score\n",
    "\n",
    "#### Analytical Confidence Interval\n",
    "\n",
    "We can now express confidence interval for a proportion with parts labelled as,\n",
    "\n",
    "<figure style=\"text-align: center;\">\n",
    "  <img src=\"_static/confidence/proportion.png\" style=\"display: block; margin: 0 auto; width: 60%;\">\n",
    "  <figcaption style=\"text-align: center;\">Analytical expression for confidence interval for a proportion with parts labelled.</figcaption>\n",
    "</figure>\n",
    "\n",
    "* we have a general form of,\n",
    "\n",
    "$$\n",
    "\\text{Statistic} \\quad \\pm \\quad \\text{Score} \\quad \\times \\quad \\text{Standard Error}\n",
    "$$\n",
    "\n",
    "and we can walk-through the calculation.\n",
    "\n",
    "1. Calculate the sample Statistic, $\\hat{p}$, note, the confidence interval is centered on the statistics from the sample.\n",
    "\n",
    "* we are assuming the statistic is unbiased, the best estimate of the centroid of our uncertainty model\n",
    "\n",
    "<figure style=\"text-align: center;\">\n",
    "  <img src=\"_static/confidence/statistic.png\" style=\"display: block; margin: 0 auto; width: 60%;\">\n",
    "  <figcaption style=\"text-align: center;\">Our confidence interval is anchored by the available statistic.</figcaption>\n",
    "</figure>\n",
    "\n",
    "2. Calculate the standard error, $\\sqrt{\\frac{\\hat{p}(1-\\hat{p}}{n}}$, the dispersion of the uncertainty distribution in standard deviation.\n",
    "\n",
    "<figure style=\"text-align: center;\">\n",
    "  <img src=\"_static/confidence/standard_error.png\" style=\"display: block; margin: 0 auto; width: 60%;\">\n",
    "  <figcaption style=\"text-align: center;\">Standard error with the specific parametric distribution anchored on the sample statistic provides the entire uncertainty distribution.</figcaption>\n",
    "</figure>\n",
    "\n",
    "3.  Calculate the score, $z_{\\frac{\\alpha}{2}}$ based on the confidence level (and alpha level).\n",
    "\n",
    "<figure style=\"text-align: center;\">\n",
    "  <img src=\"_static/confidence/confidence_interval.png\" style=\"display: block; margin: 0 auto; width: 60%;\">\n",
    "  <figcaption style=\"text-align: center;\">Z-score is the symmetric percentiles from the uncertainty distribution, plus and minus centered on the sample statistic is the confidence interval.</figcaption>\n",
    "</figure>\n",
    "\n",
    "#### Small Samples\n",
    "\n",
    "For small sample sizes our estimate of the proportion, $p$, has additional uncertainty. We use the Student's t distribution, with t-scores, instead of Gaussian distribution, with z-scores, to account for this. \n",
    "\n",
    "$$\n",
    "p_{C.I.} \\rightarrow \\hat{p} \\pm z_{\\frac{\\alpha}{2}} \\sqrt{\\frac{p(1-p)}{n}} \\approx \\hat{p} \\pm t_{\\frac{\\alpha}{2}} \\sqrt{\\frac{\\hat{p}(1-\\hat{p})}{n}}\n",
    "$$\n",
    "\n",
    "* if the sample is large then the t-score is equal to the z-score and there is no change; therefore, we could always use t-scores\n",
    "\n",
    "What is a small sample size? There are various rules of thumb. We apply,\n",
    "\n",
    "* for means, $n \\lt 30$\n",
    "\n",
    "* for proportions, $np \\lt 30$ or $n(1-p) \\lt 30$  \n",
    "\n",
    "#### Load the Required Libraries\n",
    "\n",
    "The following code loads the required libraries."
   ]
  },
  {
   "cell_type": "code",
   "execution_count": 1,
   "metadata": {},
   "outputs": [],
   "source": [
    "import os                                                   # to set current working directory \n",
    "import numpy as np                                          # arrays and matrix math\n",
    "import scipy.stats as stats                                 # statistical methods\n",
    "import pandas as pd                                         # DataFrames\n",
    "import math                                                 # square root\n",
    "import statistics                                           # statistics\n",
    "import matplotlib.pyplot as plt                             # plotting"
   ]
  },
  {
   "cell_type": "markdown",
   "metadata": {},
   "source": [
    "If you get a package import error, you may have to first install some of these packages. This can usually be accomplished by opening up a command window on Windows and then typing 'python -m pip install [package-name]'. More assistance is available with the respective package docs.  \n",
    "\n",
    "#### Declare Functions"
   ]
  },
  {
   "cell_type": "code",
   "execution_count": 2,
   "metadata": {},
   "outputs": [],
   "source": [
    "def welch_dof(x,y):                                          # DOF for Welch's test from https://pythonfordatascienceorg.wordpress.com/welch-t-test-python-pandas/\n",
    "        dof = (x.var()/x.size + y.var()/y.size)**2 / ((x.var()/x.size)**2 / (x.size-1) + (y.var()/y.size)**2 / (y.size-1))\n",
    "        return dof"
   ]
  },
  {
   "cell_type": "markdown",
   "metadata": {},
   "source": [
    "#### Set the working directory\n",
    "\n",
    "I always like to do this so I don't lose files and to simplify subsequent read and writes (avoid including the full address each time).  Also, in this case make sure to place the required (see below) data file in this directory.  When we are done with this tutorial we will write our new dataset back to this directory.  "
   ]
  },
  {
   "cell_type": "code",
   "execution_count": 3,
   "metadata": {},
   "outputs": [],
   "source": [
    "#os.chdir(\"C:\\PGE337\")                                  # set the working directory"
   ]
  },
  {
   "cell_type": "markdown",
   "metadata": {},
   "source": [
    "#### Loading Data\n",
    "\n",
    "Let's load the provided dataset. 'PorositySamples2Units.csv' is available at https://github.com/GeostatsGuy/GeoDataSets. It is a comma delimited file with 20 porosity measures from 2 rock units from the subsurface, porosity (as a fraction). We load it with the pandas 'read_csv' function into a data frame we called 'df' and then preview it by printing a slice and by utilizing the 'head' DataFrame member function (with a nice and clean format, see below).\n"
   ]
  },
  {
   "cell_type": "code",
   "execution_count": 4,
   "metadata": {},
   "outputs": [
    {
     "name": "stdout",
     "output_type": "stream",
     "text": [
      "     X1    X2\n",
      "0  0.21  0.20\n",
      "1  0.17  0.26\n",
      "2  0.15  0.20\n",
      "3  0.20  0.19\n",
      "4  0.19  0.13\n"
     ]
    },
    {
     "data": {
      "text/html": [
       "<div>\n",
       "<style scoped>\n",
       "    .dataframe tbody tr th:only-of-type {\n",
       "        vertical-align: middle;\n",
       "    }\n",
       "\n",
       "    .dataframe tbody tr th {\n",
       "        vertical-align: top;\n",
       "    }\n",
       "\n",
       "    .dataframe thead th {\n",
       "        text-align: right;\n",
       "    }\n",
       "</style>\n",
       "<table border=\"1\" class=\"dataframe\">\n",
       "  <thead>\n",
       "    <tr style=\"text-align: right;\">\n",
       "      <th></th>\n",
       "      <th>X1</th>\n",
       "      <th>X2</th>\n",
       "    </tr>\n",
       "  </thead>\n",
       "  <tbody>\n",
       "    <tr>\n",
       "      <th>0</th>\n",
       "      <td>0.21</td>\n",
       "      <td>0.20</td>\n",
       "    </tr>\n",
       "    <tr>\n",
       "      <th>1</th>\n",
       "      <td>0.17</td>\n",
       "      <td>0.26</td>\n",
       "    </tr>\n",
       "    <tr>\n",
       "      <th>2</th>\n",
       "      <td>0.15</td>\n",
       "      <td>0.20</td>\n",
       "    </tr>\n",
       "    <tr>\n",
       "      <th>3</th>\n",
       "      <td>0.20</td>\n",
       "      <td>0.19</td>\n",
       "    </tr>\n",
       "    <tr>\n",
       "      <th>4</th>\n",
       "      <td>0.19</td>\n",
       "      <td>0.13</td>\n",
       "    </tr>\n",
       "  </tbody>\n",
       "</table>\n",
       "</div>"
      ],
      "text/plain": [
       "     X1    X2\n",
       "0  0.21  0.20\n",
       "1  0.17  0.26\n",
       "2  0.15  0.20\n",
       "3  0.20  0.19\n",
       "4  0.19  0.13"
      ]
     },
     "execution_count": 4,
     "metadata": {},
     "output_type": "execute_result"
    }
   ],
   "source": [
    "#df = pd.read_csv(\"PorositySample2Units.csv\")                # read a .csv file in as a DataFrame\n",
    "df = pd.read_csv(r\"https://raw.githubusercontent.com/GeostatsGuy/GeoDataSets/master/PorositySample2Units.csv\") # load data from Prof. Pyrcz's github\n",
    "print(df.iloc[0:5,:])                                       # display first 4 samples in the table as a preview\n",
    "df.head()                                                   # we could also use this command for a table preview "
   ]
  },
  {
   "cell_type": "markdown",
   "metadata": {},
   "source": [
    "It is useful to review the summary statistics of our loaded DataFrame.  That can be accomplished with the 'describe' DataFrame member function.  We transpose to switch the axes for ease of visualization."
   ]
  },
  {
   "cell_type": "code",
   "execution_count": 5,
   "metadata": {},
   "outputs": [
    {
     "data": {
      "text/html": [
       "<div>\n",
       "<style scoped>\n",
       "    .dataframe tbody tr th:only-of-type {\n",
       "        vertical-align: middle;\n",
       "    }\n",
       "\n",
       "    .dataframe tbody tr th {\n",
       "        vertical-align: top;\n",
       "    }\n",
       "\n",
       "    .dataframe thead th {\n",
       "        text-align: right;\n",
       "    }\n",
       "</style>\n",
       "<table border=\"1\" class=\"dataframe\">\n",
       "  <thead>\n",
       "    <tr style=\"text-align: right;\">\n",
       "      <th></th>\n",
       "      <th>count</th>\n",
       "      <th>mean</th>\n",
       "      <th>std</th>\n",
       "      <th>min</th>\n",
       "      <th>25%</th>\n",
       "      <th>50%</th>\n",
       "      <th>75%</th>\n",
       "      <th>max</th>\n",
       "    </tr>\n",
       "  </thead>\n",
       "  <tbody>\n",
       "    <tr>\n",
       "      <th>X1</th>\n",
       "      <td>20.0</td>\n",
       "      <td>0.1645</td>\n",
       "      <td>0.027810</td>\n",
       "      <td>0.11</td>\n",
       "      <td>0.1500</td>\n",
       "      <td>0.17</td>\n",
       "      <td>0.19</td>\n",
       "      <td>0.21</td>\n",
       "    </tr>\n",
       "    <tr>\n",
       "      <th>X2</th>\n",
       "      <td>20.0</td>\n",
       "      <td>0.2000</td>\n",
       "      <td>0.045422</td>\n",
       "      <td>0.11</td>\n",
       "      <td>0.1675</td>\n",
       "      <td>0.20</td>\n",
       "      <td>0.23</td>\n",
       "      <td>0.30</td>\n",
       "    </tr>\n",
       "  </tbody>\n",
       "</table>\n",
       "</div>"
      ],
      "text/plain": [
       "    count    mean       std   min     25%   50%   75%   max\n",
       "X1   20.0  0.1645  0.027810  0.11  0.1500  0.17  0.19  0.21\n",
       "X2   20.0  0.2000  0.045422  0.11  0.1675  0.20  0.23  0.30"
      ]
     },
     "execution_count": 5,
     "metadata": {},
     "output_type": "execute_result"
    }
   ],
   "source": [
    "df.describe().transpose()   "
   ]
  },
  {
   "cell_type": "markdown",
   "metadata": {},
   "source": [
    "Here we extract the X1 and X2 unit porosity samples from the DataFrame into separate arrays called 'X1' and 'X2' for convenience."
   ]
  },
  {
   "cell_type": "code",
   "execution_count": 6,
   "metadata": {},
   "outputs": [],
   "source": [
    "X1 = df['X1'].values\n",
    "X2 = df['X2'].values"
   ]
  },
  {
   "cell_type": "markdown",
   "metadata": {},
   "source": [
    "#### Confidence Interval for the Mean\n",
    "\n",
    "Let's first demonstrate the calculation of the confidence interval for the sample mean at a 95% confidence level.  This could be interpreted as the interval over which there is a 95% confidence that it contains the true population.  We use the student's t distribution as we assume we do not know the variance and the sample size is small. \n",
    "\n",
    "\\begin{equation}\n",
    "x̅ \\pm t_{\\frac{\\alpha}{2},n-1} \\times \\frac {s}{\\sqrt{n}} \n",
    "\\end{equation}"
   ]
  },
  {
   "cell_type": "code",
   "execution_count": 7,
   "metadata": {},
   "outputs": [
    {
     "name": "stdout",
     "output_type": "stream",
     "text": [
      "The confidence interval for the X1 mean is [0.151 0.178]\n"
     ]
    }
   ],
   "source": [
    "ci_mean_95_x1 = stats.t.interval(0.95, len(df)-1, loc=np.mean(X1), scale=stats.sem(X1))\n",
    "print('The confidence interval for the X1 mean is ' + str(np.round(ci_mean_95_x1,3)))"
   ]
  },
  {
   "cell_type": "markdown",
   "metadata": {},
   "source": [
    "#### Confidence Interval for the Mean By-Hand\n",
    "\n",
    "Let's not use the interval function and do each part by-hand."
   ]
  },
  {
   "cell_type": "code",
   "execution_count": 8,
   "metadata": {},
   "outputs": [
    {
     "name": "stdout",
     "output_type": "stream",
     "text": [
      "Statistic +/- t-score x Standard Error\n",
      "   0.164  +/-   2.09  x     0.00606\n",
      "The confidence interval by-hand for the X1 mean is [0.15 0.18]\n"
     ]
    }
   ],
   "source": [
    "smean = np.mean(X1); sstdev = np.std(X1); n = len(X1)\n",
    "dof = len(df)-1\n",
    "tscore = stats.t.ppf([0.025,0.975], df = dof)\n",
    "SE = sstdev/math.sqrt(n)\n",
    "lower_CI,upper_CI = np.round(smean + tscore*SE,2)\n",
    "print('Statistic +/- t-score x Standard Error')\n",
    "print('   ' + str(np.round(smean,3)) + '  +/-   ' + str(np.round(tscore[1],2)) + '  x     ' + str(np.round(SE,5)))\n",
    "print('The confidence interval by-hand for the X1 mean is ' + str(np.round([lower_CI,upper_CI],3)))"
   ]
  },
  {
   "cell_type": "markdown",
   "metadata": {},
   "source": [
    "#### Let's Plot the Result\n",
    "\n",
    "Plot the full distribution and the upper and lower confidence intervals for the uncertainty in the population mean."
   ]
  },
  {
   "cell_type": "code",
   "execution_count": 9,
   "metadata": {},
   "outputs": [
    {
     "data": {
      "image/png": "[encoded data removed]",
      "text/plain": [
       "<Figure size 640x480 with 1 Axes>"
      ]
     },
     "metadata": {},
     "output_type": "display_data"
    }
   ],
   "source": [
    "xval = np.linspace(0.1,0.26,1000)\n",
    "tpdf = stats.t.pdf(xval,loc=smean,df=dof,scale=SE)\n",
    "plt.plot(xval,tpdf,color='red',lw=2); plt.xlabel('Values'); plt.ylabel('Density'); plt.title('Confidence Interval for the Population Mean')\n",
    "plt.xlim([0.1,0.26]); plt.ylim([0,80])\n",
    "\n",
    "plt.annotate('lower interval = ' + str(lower_CI),[lower_CI-0.0015,stats.t.pdf(lower_CI,df = dof, loc = smean, scale = sstdev/np.sqrt(n))+5],rotation=90.0)\n",
    "plt.annotate('upper interval = ' + str(upper_CI),[upper_CI-0.0015,stats.t.pdf(upper_CI,df = dof, loc = smean, scale = sstdev/np.sqrt(n))+6],rotation=90.0)\n",
    "plt.annotate(r'$\\overline{x} = $' + str(np.round(smean,3)),[smean-0.0015,stats.t.pdf(smean,df = dof, loc = smean, scale = sstdev/np.sqrt(n))+2],rotation=90.0)\n",
    "    \n",
    "plt.fill_between(xval,tpdf,where= xval < lower_CI, color='red',alpha=0.7)\n",
    "plt.fill_between(xval,tpdf,where= xval > upper_CI, color='red',alpha=0.7)\n",
    "plt.vlines(smean,0,65,color='black',ls='--')\n",
    "plt.vlines(lower_CI,0,7,color='black',ls='--'); plt.vlines(upper_CI,0,7,color='black',ls='--')\n",
    "\n",
    "plt.subplots_adjust(left=0.0, bottom=0.0, right=1.0, top=1.1, wspace=0.3, hspace=0.4); plt.show()"
   ]
  },
  {
   "cell_type": "markdown",
   "metadata": {},
   "source": [
    "#### Confidence Interval for the Proportion\n",
    "\n",
    "Now I demonstrate the calculation of the confidence interval for a proportion.\n",
    "\n",
    "\\begin{equation}\n",
    "\\hat{p} \\pm t_{\\frac{\\alpha}{2},n-1} \\times \\frac {\\hat{p}(1-\\hat{p})}{\\sqrt{n}} \n",
    "\\end{equation}\n",
    "\n",
    "First we need to make a new categorical feature to demonstrate confidence intervals for proportions.\n",
    "\n",
    "* we will assign samples as category 'high porosity' when their porosity is greater than 18%"
   ]
  },
  {
   "cell_type": "code",
   "execution_count": 10,
   "metadata": {},
   "outputs": [
    {
     "name": "stdout",
     "output_type": "stream",
     "text": [
      "New binary feature, 1 = high porosity, 0 = low porosity\n",
      "[1 0 0 1 1 1 0 0 0 0 0 0 1 0 0 0 0 1 1 0]\n",
      "\n",
      "Proportion of high porosity rock in well X1 is 0.35\n"
     ]
    }
   ],
   "source": [
    "CX1 = np.where(X1 < 0.18,0,1)\n",
    "prop_CX1 = np.sum(CX1 == 1)/CX1.shape[0]\n",
    "print('New binary feature, 1 = high porosity, 0 = low porosity')\n",
    "print(CX1)\n",
    "\n",
    "print('\\nProportion of high porosity rock in well X1 is ' + str(np.round(prop_CX1,2)))"
   ]
  },
  {
   "cell_type": "markdown",
   "metadata": {},
   "source": [
    "Now we are ready to calculate the confidence interval in the proportion with the SciPy stats t interval function."
   ]
  },
  {
   "cell_type": "code",
   "execution_count": 11,
   "metadata": {},
   "outputs": [
    {
     "name": "stdout",
     "output_type": "stream",
     "text": [
      "The confidence interval for the X1 proportion of high porosity is [0.244 0.456]\n"
     ]
    }
   ],
   "source": [
    "SE_prop = (prop_CX1*(1-prop_CX1))/math.sqrt(CX1.shape[0])\n",
    "ci_prop_95_x1 = stats.t.interval(0.95, CX1.shape[0]-1, loc=prop_CX1, scale=SE_prop)\n",
    "print('The confidence interval for the X1 proportion of high porosity is ' + str(np.round(ci_prop_95_x1,3)))"
   ]
  },
  {
   "cell_type": "markdown",
   "metadata": {},
   "source": [
    "#### Confidence Interval for the Proportion By-Hand\n",
    "\n",
    "Let's repeat this calculation by-hand without the SciPy stats function to test our knowledge."
   ]
  },
  {
   "cell_type": "code",
   "execution_count": 12,
   "metadata": {},
   "outputs": [
    {
     "name": "stdout",
     "output_type": "stream",
     "text": [
      "Statistic +/- t-score x Standard Error\n",
      "   0.35   +/-   2.09  x     0.0509\n",
      "The confidence interval for the X1 proportion of high porosity is [0.244 0.456]\n"
     ]
    }
   ],
   "source": [
    "sample_prop = np.sum(CX1 == 1)/CX1.shape[0]\n",
    "tscore = stats.t.ppf([0.025,0.975], df = len(df)-1)\n",
    "SE_prop = (prop_CX1*(1-prop_CX1))/math.sqrt(CX1.shape[0])\n",
    "ci_prop_BH_95_x1 = sample_prop + tscore * SE_prop\n",
    "print('Statistic +/- t-score x Standard Error')\n",
    "print('   ' + str(np.round(sample_prop,3)) + '   +/-   ' + str(np.round(tscore[1],2)) + '  x     ' + str(np.round(SE_prop,4)))\n",
    "print('The confidence interval for the X1 proportion of high porosity is ' + str(np.round(ci_prop_BH_95_x1,3)))"
   ]
  },
  {
   "cell_type": "markdown",
   "metadata": {},
   "source": [
    "#### Comments\n",
    "\n",
    "I hope you found this chapter helpful. Much more could be done and discussed, I have many more resources. Check out my [shared resource inventory](https://michaelpyrcz.com/my-resources),\n",
    "\n",
    "*Michael*\n",
    "\n",
    "#### About the Author\n",
    "\n",
    "<figure style=\"text-align: center;\">\n",
    "  <img src=\"_static/intro/michael_pyrcz_officeshot_jacket.jpg\" style=\"display: block; margin: 0 auto; width: 70%;\">\n",
    "  <figcaption style=\"text-align: center;\"> Professor Michael Pyrcz in his office on the 40 acres, campus of The University of Texas at Austin.\n",
    "</figcaption>\n",
    "</figure>\n",
    "\n",
    "Michael Pyrcz is a professor in the [Cockrell School of Engineering](https://cockrell.utexas.edu/faculty-directory/alphabetical/p), and the [Jackson School of Geosciences](https://www.jsg.utexas.edu/researcher/michael_pyrcz/), at [The University of Texas at Austin](https://www.utexas.edu/), where he researches and teaches subsurface, spatial data analytics, geostatistics, and machine learning. Michael is also,\n",
    "\n",
    "* the principal investigator of the [Energy Analytics](https://fri.cns.utexas.edu/energy-analytics) freshmen research initiative and a core faculty in the Machine Learn Laboratory in the College of Natural Sciences, The University of Texas at Austin\n",
    "\n",
    "* an associate editor for [Computers and Geosciences](https://www.sciencedirect.com/journal/computers-and-geosciences/about/editorial-board), and a board member for [Mathematical Geosciences](https://link.springer.com/journal/11004/editorial-board), the International Association for Mathematical Geosciences. \n",
    "\n",
    "Michael has written over 70 [peer-reviewed publications](https://scholar.google.com/citations?user=QVZ20eQAAAAJ&hl=en), a [Python package](https://pypi.org/project/geostatspy/) for spatial data analytics, co-authored a textbook on spatial data analytics, [Geostatistical Reservoir Modeling](https://www.amazon.com/Geostatistical-Reservoir-Modeling-Michael-Pyrcz/dp/0199731446) and author of two recently released e-books, [Applied Geostatistics in Python: a Hands-on Guide with GeostatsPy](https://geostatsguy.github.io/GeostatsPyDemos_Book/intro.html) and [Applied Machine Learning in Python: a Hands-on Guide with Code](https://geostatsguy.github.io/MachineLearningDemos_Book/intro.html).\n",
    "\n",
    "All of Michael’s university lectures are available on his [YouTube Channel](https://www.youtube.com/@GeostatsGuyLectures) with links to 100s of Python interactive dashboards and well-documented workflows in over 40 repositories on his [GitHub account](https://github.com/GeostatsGuy), to support any interested students and working professionals with evergreen content. To find out more about Michael’s work and shared educational resources visit his [Website](www.michaelpyrcz.com).\n",
    "\n",
    "#### Want to Work Together?\n",
    "\n",
    "I hope this content is helpful to those that want to learn more about subsurface modeling, data analytics and machine learning. Students and working professionals are welcome to participate.\n",
    "\n",
    "* Want to invite me to visit your company for training, mentoring, project review, workflow design and / or consulting? I'd be happy to drop by and work with you! \n",
    "\n",
    "* Interested in partnering, supporting my graduate student research or my Subsurface Data Analytics and Machine Learning consortium (co-PI is Professor John Foster)? My research combines data analytics, stochastic modeling and machine learning theory with practice to develop novel methods and workflows to add value. We are solving challenging subsurface problems!\n",
    "\n",
    "* I can be reached at mpyrcz@austin.utexas.edu.\n",
    "\n",
    "I'm always happy to discuss,\n",
    "\n",
    "*Michael*\n",
    "\n",
    "Michael Pyrcz, Ph.D., P.Eng. Professor, Cockrell School of Engineering and The Jackson School of Geosciences, The University of Texas at Austin\n",
    "\n",
    "More Resources Available at: [Twitter](https://twitter.com/geostatsguy) | [GitHub](https://github.com/GeostatsGuy) | [Website](http://michaelpyrcz.com) | [GoogleScholar](https://scholar.google.com/citations?user=QVZ20eQAAAAJ&hl=en&oi=ao) | [Geostatistics Book](https://www.amazon.com/Geostatistical-Reservoir-Modeling-Michael-Pyrcz/dp/0199731446) | [YouTube](https://www.youtube.com/channel/UCLqEr-xV-ceHdXXXrTId5ig)  | [Applied Geostats in Python e-book](https://geostatsguy.github.io/GeostatsPyDemos_Book/intro.html) | [Applied Machine Learning in Python e-book](https://geostatsguy.github.io/MachineLearningDemos_Book/) | [LinkedIn](https://www.linkedin.com/in/michael-pyrcz-61a648a1)"
   ]
  },
  {
   "cell_type": "code",
   "execution_count": null,
   "metadata": {},
   "outputs": [],
   "source": []
  }
 ],
 "metadata": {
  "kernelspec": {
   "display_name": "Python 3 (ipykernel)",
   "language": "python",
   "name": "python3"
  },
  "language_info": {
   "codemirror_mode": {
    "name": "ipython",
    "version": 3
   },
   "file_extension": ".py",
   "mimetype": "text/x-python",
   "name": "python",
   "nbconvert_exporter": "python",
   "pygments_lexer": "ipython3",
   "version": "3.8.0"
  }
 },
 "nbformat": 4,
 "nbformat_minor": 4
}